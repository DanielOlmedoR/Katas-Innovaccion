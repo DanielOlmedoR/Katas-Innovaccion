{
 "cells": [
  {
   "cell_type": "markdown",
   "metadata": {},
   "source": [
    "# Temible kata 2 D:"
   ]
  },
  {
   "cell_type": "code",
   "execution_count": 8,
   "metadata": {},
   "outputs": [
    {
     "name": "stdout",
     "output_type": "stream",
     "text": [
      "asttokens==2.0.5\n",
      "backcall==0.2.0\n",
      "black==22.1.0\n",
      "click==8.0.3\n",
      "colorama==0.4.4Note: you may need to restart the kernel to use updated packages.\n",
      "\n",
      "debugpy==1.5.1\n",
      "decorator==5.1.1\n",
      "entrypoints==0.4\n",
      "executing==0.8.2\n",
      "ipykernel==6.9.0\n",
      "ipython==8.0.1\n",
      "jedi==0.18.1\n",
      "jupyter-client==7.1.2\n",
      "jupyter-core==4.9.1\n",
      "matplotlib-inline==0.1.3\n",
      "mypy-extensions==0.4.3\n",
      "nest-asyncio==1.5.4\n",
      "parso==0.8.3\n",
      "pathspec==0.9.0\n",
      "pickleshare==0.7.5\n",
      "platformdirs==2.5.0\n",
      "prompt-toolkit==3.0.27\n",
      "pure-eval==0.2.2\n",
      "Pygments==2.11.2\n",
      "python-dateutil==2.8.2\n",
      "pywin32==303\n",
      "pyzmq==22.3.0\n",
      "six==1.16.0\n",
      "stack-data==0.1.4\n",
      "tomli==2.0.1\n",
      "tornado==6.1\n",
      "traitlets==5.1.1\n",
      "wcwidth==0.2.5\n"
     ]
    }
   ],
   "source": [
    "pip freeze"
   ]
  },
  {
   "cell_type": "code",
   "execution_count": 9,
   "metadata": {},
   "outputs": [
    {
     "name": "stdout",
     "output_type": "stream",
     "text": [
      "Note: you may need to restart the kernel to use updated packages.Requirement already satisfied: python-dateutil in c:\\users\\danie\\appdata\\roaming\\python\\python310\\site-packages (2.8.2)\n",
      "Requirement already satisfied: six>=1.5 in c:\\users\\danie\\appdata\\roaming\\python\\python310\\site-packages (from python-dateutil) (1.16.0)\n",
      "\n"
     ]
    },
    {
     "name": "stderr",
     "output_type": "stream",
     "text": [
      "WARNING: You are using pip version 21.2.4; however, version 22.0.3 is available.\n",
      "You should consider upgrading via the 'C:\\Users\\danie\\AppData\\Local\\Programs\\Python\\Python310\\python.exe -m pip install --upgrade pip' command.\n"
     ]
    }
   ],
   "source": [
    "pip install python-dateutil"
   ]
  },
  {
   "cell_type": "code",
   "execution_count": 11,
   "metadata": {},
   "outputs": [
    {
     "ename": "SyntaxError",
     "evalue": "invalid syntax (2260835012.py, line 1)",
     "output_type": "error",
     "traceback": [
      "\u001b[1;36m  Input \u001b[1;32mIn [11]\u001b[1;36m\u001b[0m\n\u001b[1;33m    Successfully installed python-dateutil-2.8.2 six-1.16.0\u001b[0m\n\u001b[1;37m                 ^\u001b[0m\n\u001b[1;31mSyntaxError\u001b[0m\u001b[1;31m:\u001b[0m invalid syntax\n"
     ]
    }
   ],
   "source": [
    "Successfully installed python-dateutil-2.8.2 six-1.16.0"
   ]
  },
  {
   "cell_type": "code",
   "execution_count": 12,
   "metadata": {},
   "outputs": [
    {
     "name": "stdout",
     "output_type": "stream",
     "text": [
      "asttokens==2.0.5\n",
      "backcall==0.2.0\n",
      "black==22.1.0\n",
      "click==8.0.3\n",
      "colorama==0.4.4\n",
      "debugpy==1.5.1\n",
      "decorator==5.1.1\n",
      "entrypoints==0.4\n",
      "executing==0.8.2\n",
      "ipykernel==6.9.0\n",
      "ipython==8.0.1\n",
      "jedi==0.18.1\n",
      "jupyter-client==7.1.2\n",
      "jupyter-core==4.9.1\n",
      "matplotlib-inline==0.1.3\n",
      "mypy-extensions==0.4.3\n",
      "nest-asyncio==1.5.4\n",
      "parso==0.8.3\n",
      "pathspec==0.9.0\n",
      "pickleshare==0.7.5\n",
      "platformdirs==2.5.0\n",
      "prompt-toolkit==3.0.27\n",
      "pure-eval==0.2.2\n",
      "Pygments==2.11.2\n",
      "python-dateutil==2.8.2\n",
      "pywin32==303\n",
      "pyzmq==22.3.0\n",
      "six==1.16.0\n",
      "stack-data==0.1.4\n",
      "tomli==2.0.1\n",
      "tornado==6.1\n",
      "traitlets==5.1.1\n",
      "wcwidth==0.2.5\n",
      "Note: you may need to restart the kernel to use updated packages.\n"
     ]
    }
   ],
   "source": [
    "pip freeze"
   ]
  },
  {
   "cell_type": "code",
   "execution_count": 15,
   "metadata": {},
   "outputs": [
    {
     "ename": "NameError",
     "evalue": "name 'deactivate' is not defined",
     "output_type": "error",
     "traceback": [
      "\u001b[1;31m---------------------------------------------------------------------------\u001b[0m",
      "\u001b[1;31mNameError\u001b[0m                                 Traceback (most recent call last)",
      "\u001b[1;32mUntitled-2.ipynb Cell 6'\u001b[0m in \u001b[0;36m<module>\u001b[1;34m\u001b[0m\n\u001b[1;32m----> <a href='vscode-notebook-cell:Untitled-2.ipynb?jupyter-notebook#ch0000007untitled?line=0'>1</a>\u001b[0m deactivate\n",
      "\u001b[1;31mNameError\u001b[0m: name 'deactivate' is not defined"
     ]
    }
   ],
   "source": [
    "deactivate"
   ]
  }
 ],
 "metadata": {
  "interpreter": {
   "hash": "5322818cae43cf6468214953b049884cb6ca7e8071f01fca2a6d6ce521d192bd"
  },
  "kernelspec": {
   "display_name": "Python 3.10.2 64-bit",
   "language": "python",
   "name": "python3"
  },
  "language_info": {
   "codemirror_mode": {
    "name": "ipython",
    "version": 3
   },
   "file_extension": ".py",
   "mimetype": "text/x-python",
   "name": "python",
   "nbconvert_exporter": "python",
   "pygments_lexer": "ipython3",
   "version": "3.10.2"
  },
  "orig_nbformat": 4
 },
 "nbformat": 4,
 "nbformat_minor": 2
}
